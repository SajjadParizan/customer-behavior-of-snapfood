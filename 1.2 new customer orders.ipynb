{
 "cells": [
  {
   "cell_type": "code",
   "execution_count": 1,
   "id": "structural-yorkshire",
   "metadata": {},
   "outputs": [],
   "source": [
    "import pandas as pd \n",
    "import numpy as np          # For mathematical calculations \n",
    "import matplotlib.pyplot as plt  # For plotting graphs \n",
    "from datetime import datetime    # To access datetime \n",
    "from pandas import Series      # To work on series \n",
    "import seaborn as sns\n",
    "%matplotlib inline \n",
    "import warnings                   # To ignore the warnings\n",
    "warnings.filterwarnings(\"ignore\")"
   ]
  },
  {
   "cell_type": "code",
   "execution_count": 2,
   "id": "persistent-ethernet",
   "metadata": {},
   "outputs": [],
   "source": [
    "pd.set_option('display.max_rows',None)"
   ]
  },
  {
   "cell_type": "code",
   "execution_count": 2,
   "id": "persistent-stick",
   "metadata": {},
   "outputs": [],
   "source": [
    "month_count=pd.read_csv(r'E:\\user\\snappfood qualiftying\\source\\data\\edited data\\month_count_purchase.csv')"
   ]
  },
  {
   "cell_type": "code",
   "execution_count": 3,
   "id": "invisible-divorce",
   "metadata": {},
   "outputs": [],
   "source": [
    "data=pd.read_csv(r'E:\\user\\snappfood qualiftying\\source\\data\\edited data\\df1.csv')"
   ]
  },
  {
   "cell_type": "code",
   "execution_count": 4,
   "id": "lucky-reception",
   "metadata": {},
   "outputs": [],
   "source": [
    "data=data.set_index('created_at')"
   ]
  },
  {
   "cell_type": "code",
   "execution_count": 5,
   "id": "nervous-problem",
   "metadata": {},
   "outputs": [],
   "source": [
    "data.index=pd.to_datetime(data.index)"
   ]
  },
  {
   "cell_type": "code",
   "execution_count": 6,
   "id": "valid-london",
   "metadata": {},
   "outputs": [],
   "source": [
    "data=data.sort_index()"
   ]
  },
  {
   "cell_type": "code",
   "execution_count": 7,
   "id": "alternate-warrior",
   "metadata": {},
   "outputs": [
    {
     "data": {
      "text/plain": [
       "(29057, 9)"
      ]
     },
     "execution_count": 7,
     "metadata": {},
     "output_type": "execute_result"
    }
   ],
   "source": [
    "data.shape"
   ]
  },
  {
   "cell_type": "code",
   "execution_count": 8,
   "id": "buried-adams",
   "metadata": {},
   "outputs": [
    {
     "data": {
      "text/html": [
       "<div>\n",
       "<style scoped>\n",
       "    .dataframe tbody tr th:only-of-type {\n",
       "        vertical-align: middle;\n",
       "    }\n",
       "\n",
       "    .dataframe tbody tr th {\n",
       "        vertical-align: top;\n",
       "    }\n",
       "\n",
       "    .dataframe thead th {\n",
       "        text-align: right;\n",
       "    }\n",
       "</style>\n",
       "<table border=\"1\" class=\"dataframe\">\n",
       "  <thead>\n",
       "    <tr style=\"text-align: right;\">\n",
       "      <th></th>\n",
       "      <th>order_id</th>\n",
       "      <th>user_id</th>\n",
       "      <th>discount_cost</th>\n",
       "      <th>discount_type</th>\n",
       "      <th>basket</th>\n",
       "      <th>month</th>\n",
       "      <th>day</th>\n",
       "      <th>year</th>\n",
       "      <th>cohort</th>\n",
       "    </tr>\n",
       "    <tr>\n",
       "      <th>created_at</th>\n",
       "      <th></th>\n",
       "      <th></th>\n",
       "      <th></th>\n",
       "      <th></th>\n",
       "      <th></th>\n",
       "      <th></th>\n",
       "      <th></th>\n",
       "      <th></th>\n",
       "      <th></th>\n",
       "    </tr>\n",
       "  </thead>\n",
       "  <tbody>\n",
       "    <tr>\n",
       "      <th>2021-04-12</th>\n",
       "      <td>1</td>\n",
       "      <td>1</td>\n",
       "      <td>10000</td>\n",
       "      <td>1.0</td>\n",
       "      <td>12000</td>\n",
       "      <td>4</td>\n",
       "      <td>12</td>\n",
       "      <td>2021</td>\n",
       "      <td>3</td>\n",
       "    </tr>\n",
       "    <tr>\n",
       "      <th>2021-05-09</th>\n",
       "      <td>2</td>\n",
       "      <td>2</td>\n",
       "      <td>0</td>\n",
       "      <td>0.0</td>\n",
       "      <td>20000</td>\n",
       "      <td>5</td>\n",
       "      <td>9</td>\n",
       "      <td>2021</td>\n",
       "      <td>5</td>\n",
       "    </tr>\n",
       "    <tr>\n",
       "      <th>2021-05-09</th>\n",
       "      <td>3</td>\n",
       "      <td>3</td>\n",
       "      <td>10000</td>\n",
       "      <td>1.0</td>\n",
       "      <td>14000</td>\n",
       "      <td>5</td>\n",
       "      <td>9</td>\n",
       "      <td>2021</td>\n",
       "      <td>3</td>\n",
       "    </tr>\n",
       "    <tr>\n",
       "      <th>2021-11-10</th>\n",
       "      <td>4</td>\n",
       "      <td>4</td>\n",
       "      <td>0</td>\n",
       "      <td>0.0</td>\n",
       "      <td>15000</td>\n",
       "      <td>11</td>\n",
       "      <td>10</td>\n",
       "      <td>2021</td>\n",
       "      <td>11</td>\n",
       "    </tr>\n",
       "    <tr>\n",
       "      <th>2021-11-10</th>\n",
       "      <td>5</td>\n",
       "      <td>5</td>\n",
       "      <td>10000</td>\n",
       "      <td>1.0</td>\n",
       "      <td>16000</td>\n",
       "      <td>11</td>\n",
       "      <td>10</td>\n",
       "      <td>2021</td>\n",
       "      <td>1</td>\n",
       "    </tr>\n",
       "  </tbody>\n",
       "</table>\n",
       "</div>"
      ],
      "text/plain": [
       "            order_id  user_id  discount_cost  discount_type  basket  month  \\\n",
       "created_at                                                                   \n",
       "2021-04-12         1        1          10000            1.0   12000      4   \n",
       "2021-05-09         2        2              0            0.0   20000      5   \n",
       "2021-05-09         3        3          10000            1.0   14000      5   \n",
       "2021-11-10         4        4              0            0.0   15000     11   \n",
       "2021-11-10         5        5          10000            1.0   16000     11   \n",
       "\n",
       "            day  year  cohort  \n",
       "created_at                     \n",
       "2021-04-12   12  2021       3  \n",
       "2021-05-09    9  2021       5  \n",
       "2021-05-09    9  2021       3  \n",
       "2021-11-10   10  2021      11  \n",
       "2021-11-10   10  2021       1  "
      ]
     },
     "execution_count": 8,
     "metadata": {},
     "output_type": "execute_result"
    }
   ],
   "source": [
    "data.head()"
   ]
  },
  {
   "cell_type": "code",
   "execution_count": 52,
   "id": "collaborative-kernel",
   "metadata": {},
   "outputs": [],
   "source": [
    "new_cus=pd.DataFrame(columns=['user_id','order_id','discount_cost','discount_type','basket','day','month','year'],dtype=np.float64)"
   ]
  },
  {
   "cell_type": "code",
   "execution_count": 57,
   "id": "considered-wheat",
   "metadata": {},
   "outputs": [],
   "source": [
    "unique_id=data['user_id'].value_counts().index"
   ]
  },
  {
   "cell_type": "code",
   "execution_count": 58,
   "id": "economic-darkness",
   "metadata": {},
   "outputs": [
    {
     "data": {
      "text/plain": [
       "9985"
      ]
     },
     "execution_count": 58,
     "metadata": {},
     "output_type": "execute_result"
    }
   ],
   "source": [
    "len(unique_id)"
   ]
  },
  {
   "cell_type": "code",
   "execution_count": 59,
   "id": "experienced-sword",
   "metadata": {},
   "outputs": [],
   "source": [
    "order=[]\n",
    "discount_cost=[]\n",
    "discount_type=[]\n",
    "basket=[]\n",
    "day=[]\n",
    "month=[]\n",
    "year=[]\n",
    "for i in range(9985):\n",
    "    user=unique_id[i]\n",
    "\n",
    "    order.append(data[data['user_id']==user].sort_values(['year','month','day']).iloc[0]['order_id'])\n",
    "    discount_cost.append(data[data['user_id']==user].sort_values(['year','month','day']).iloc[0]['discount_cost'])\n",
    "    discount_type.append(data[data['user_id']==user].sort_values(['year','month','day']).iloc[0]['discount_type'])\n",
    "    basket.append(data[data['user_id']==user].sort_values(['year','month','day']).iloc[0]['basket'])\n",
    "    day.append(data[data['user_id']==user].sort_values(['year','month','day']).iloc[0]['day'])\n",
    "    month.append(data[data['user_id']==user].sort_values(['year','month','day']).iloc[0]['month'])\n",
    "    year.append(data[data['user_id']==user].sort_values(['year','month','day']).iloc[0]['year'])"
   ]
  },
  {
   "cell_type": "code",
   "execution_count": 85,
   "id": "large-eagle",
   "metadata": {},
   "outputs": [],
   "source": [
    "index=[]\n",
    "for i in range(9985):\n",
    "    user=unique_id[i]\n",
    "    index.append(data[data['user_id']==user].sort_values(['year','month','day'])['order_id'].index[0])"
   ]
  },
  {
   "cell_type": "code",
   "execution_count": 87,
   "id": "labeled-marine",
   "metadata": {},
   "outputs": [],
   "source": [
    "new_cus['index']=index"
   ]
  },
  {
   "cell_type": "code",
   "execution_count": 90,
   "id": "rocky-resort",
   "metadata": {},
   "outputs": [
    {
     "data": {
      "text/html": [
       "<div>\n",
       "<style scoped>\n",
       "    .dataframe tbody tr th:only-of-type {\n",
       "        vertical-align: middle;\n",
       "    }\n",
       "\n",
       "    .dataframe tbody tr th {\n",
       "        vertical-align: top;\n",
       "    }\n",
       "\n",
       "    .dataframe thead th {\n",
       "        text-align: right;\n",
       "    }\n",
       "</style>\n",
       "<table border=\"1\" class=\"dataframe\">\n",
       "  <thead>\n",
       "    <tr style=\"text-align: right;\">\n",
       "      <th></th>\n",
       "      <th>user_id</th>\n",
       "      <th>order_id</th>\n",
       "      <th>discount_cost</th>\n",
       "      <th>discount_type</th>\n",
       "      <th>basket</th>\n",
       "      <th>day</th>\n",
       "      <th>month</th>\n",
       "      <th>year</th>\n",
       "    </tr>\n",
       "    <tr>\n",
       "      <th>index</th>\n",
       "      <th></th>\n",
       "      <th></th>\n",
       "      <th></th>\n",
       "      <th></th>\n",
       "      <th></th>\n",
       "      <th></th>\n",
       "      <th></th>\n",
       "      <th></th>\n",
       "    </tr>\n",
       "  </thead>\n",
       "  <tbody>\n",
       "    <tr>\n",
       "      <th>2022-02-08</th>\n",
       "      <td>1984</td>\n",
       "      <td>2775.0</td>\n",
       "      <td>0.0</td>\n",
       "      <td>0.0</td>\n",
       "      <td>28000.0</td>\n",
       "      <td>8.0</td>\n",
       "      <td>2.0</td>\n",
       "      <td>2022.0</td>\n",
       "    </tr>\n",
       "    <tr>\n",
       "      <th>2022-03-06</th>\n",
       "      <td>3276</td>\n",
       "      <td>5498.0</td>\n",
       "      <td>0.0</td>\n",
       "      <td>0.0</td>\n",
       "      <td>32400.0</td>\n",
       "      <td>6.0</td>\n",
       "      <td>3.0</td>\n",
       "      <td>2022.0</td>\n",
       "    </tr>\n",
       "    <tr>\n",
       "      <th>2022-04-03</th>\n",
       "      <td>4360</td>\n",
       "      <td>8250.0</td>\n",
       "      <td>0.0</td>\n",
       "      <td>0.0</td>\n",
       "      <td>14000.0</td>\n",
       "      <td>3.0</td>\n",
       "      <td>4.0</td>\n",
       "      <td>2022.0</td>\n",
       "    </tr>\n",
       "    <tr>\n",
       "      <th>2022-01-17</th>\n",
       "      <td>806</td>\n",
       "      <td>951.0</td>\n",
       "      <td>0.0</td>\n",
       "      <td>0.0</td>\n",
       "      <td>12000.0</td>\n",
       "      <td>17.0</td>\n",
       "      <td>1.0</td>\n",
       "      <td>2022.0</td>\n",
       "    </tr>\n",
       "    <tr>\n",
       "      <th>2022-01-11</th>\n",
       "      <td>500</td>\n",
       "      <td>551.0</td>\n",
       "      <td>0.0</td>\n",
       "      <td>0.0</td>\n",
       "      <td>6500.0</td>\n",
       "      <td>11.0</td>\n",
       "      <td>1.0</td>\n",
       "      <td>2022.0</td>\n",
       "    </tr>\n",
       "  </tbody>\n",
       "</table>\n",
       "</div>"
      ],
      "text/plain": [
       "            user_id  order_id  discount_cost  discount_type   basket   day  \\\n",
       "index                                                                        \n",
       "2022-02-08     1984    2775.0            0.0            0.0  28000.0   8.0   \n",
       "2022-03-06     3276    5498.0            0.0            0.0  32400.0   6.0   \n",
       "2022-04-03     4360    8250.0            0.0            0.0  14000.0   3.0   \n",
       "2022-01-17      806     951.0            0.0            0.0  12000.0  17.0   \n",
       "2022-01-11      500     551.0            0.0            0.0   6500.0  11.0   \n",
       "\n",
       "            month    year  \n",
       "index                      \n",
       "2022-02-08    2.0  2022.0  \n",
       "2022-03-06    3.0  2022.0  \n",
       "2022-04-03    4.0  2022.0  \n",
       "2022-01-17    1.0  2022.0  \n",
       "2022-01-11    1.0  2022.0  "
      ]
     },
     "execution_count": 90,
     "metadata": {},
     "output_type": "execute_result"
    }
   ],
   "source": [
    "new_cus.head()"
   ]
  },
  {
   "cell_type": "code",
   "execution_count": 89,
   "id": "several-ancient",
   "metadata": {},
   "outputs": [],
   "source": [
    "new_cus=new_cus.set_index('index')"
   ]
  },
  {
   "cell_type": "code",
   "execution_count": 71,
   "id": "partial-technician",
   "metadata": {},
   "outputs": [
    {
     "data": {
      "text/plain": [
       "user_id          0\n",
       "order_id         0\n",
       "discount_cost    0\n",
       "discount_type    0\n",
       "basket           0\n",
       "day              0\n",
       "month            0\n",
       "year             0\n",
       "dtype: int64"
      ]
     },
     "execution_count": 71,
     "metadata": {},
     "output_type": "execute_result"
    }
   ],
   "source": [
    "new_cus.isnull().sum()"
   ]
  },
  {
   "cell_type": "code",
   "execution_count": 91,
   "id": "outstanding-ownership",
   "metadata": {},
   "outputs": [],
   "source": [
    "new_cus.to_csv(r'E:\\user\\snappfood qualification\\source\\data\\edited data\\new_cus.csv',index=False)"
   ]
  },
  {
   "cell_type": "code",
   "execution_count": 75,
   "id": "upper-arctic",
   "metadata": {},
   "outputs": [
    {
     "data": {
      "text/plain": [
       "<AxesSubplot:xlabel='basket', ylabel='Density'>"
      ]
     },
     "execution_count": 75,
     "metadata": {},
     "output_type": "execute_result"
    },
    {
     "data": {
      "image/png": "[encoded data removed]",
      "text/plain": [
       "<Figure size 432x288 with 1 Axes>"
      ]
     },
     "metadata": {
      "needs_background": "light"
     },
     "output_type": "display_data"
    }
   ],
   "source": [
    "sns.distplot(new_cus['basket'])"
   ]
  },
  {
   "cell_type": "code",
   "execution_count": 11,
   "id": "alone-browse",
   "metadata": {},
   "outputs": [],
   "source": [
    "new_cus=pd.read_csv(r'E:\\user\\snappfood qualification\\source\\data\\edited data\\new_cus.csv')"
   ]
  },
  {
   "cell_type": "code",
   "execution_count": 154,
   "id": "sharing-algeria",
   "metadata": {},
   "outputs": [
    {
     "data": {
      "text/plain": [
       "<AxesSubplot:xlabel='year,month'>"
      ]
     },
     "execution_count": 154,
     "metadata": {},
     "output_type": "execute_result"
    },
    {
     "data": {
      "image/png": "[encoded data removed]",
      "text/plain": [
       "<Figure size 720x720 with 1 Axes>"
      ]
     },
     "metadata": {
      "needs_background": "light"
     },
     "output_type": "display_data"
    }
   ],
   "source": [
    "plt.figure(figsize=(10,10))\n",
    "new_cus.groupby(['year','month'])['user_id'].count().plot()"
   ]
  },
  {
   "cell_type": "code",
   "execution_count": 142,
   "id": "after-statistics",
   "metadata": {},
   "outputs": [],
   "source": [
    "month_index=['2021-04-01','2021-05-01','2021-11-01','2022-01-01','2022-02-01','2022-03-01','2022-04-01','2022-05-01',\n",
    "             '2022-06-01','2022-07-01']\n",
    "month_purchase=pd.DataFrame(index=month_index,columns=['median_basket'])"
   ]
  },
  {
   "cell_type": "code",
   "execution_count": 144,
   "id": "russian-interval",
   "metadata": {},
   "outputs": [],
   "source": [
    "month_purchase.index=pd.to_datetime(month_purchase.index)"
   ]
  },
  {
   "cell_type": "code",
   "execution_count": 155,
   "id": "reasonable-locator",
   "metadata": {},
   "outputs": [],
   "source": [
    "month_purchase['median_basket']=new_cus.groupby(['year','month'])['user_id'].count().values"
   ]
  },
  {
   "cell_type": "code",
   "execution_count": 158,
   "id": "convertible-extra",
   "metadata": {},
   "outputs": [],
   "source": [
    "month_purchase.to_csv(r'E:\\user\\snappfood qualiftying\\source\\data\\edited data\\month_count_purchase.csv',index=False)"
   ]
  },
  {
   "cell_type": "markdown",
   "id": "bronze-michigan",
   "metadata": {},
   "source": [
    "## modeling"
   ]
  },
  {
   "cell_type": "markdown",
   "id": "welcome-collapse",
   "metadata": {},
   "source": [
    "Auto Regressive Integrated Moving Average (ARIMA)"
   ]
  },
  {
   "cell_type": "code",
   "execution_count": 21,
   "id": "flush-orlando",
   "metadata": {},
   "outputs": [
    {
     "name": "stdout",
     "output_type": "stream",
     "text": [
      "the prediction for the number of purchases in July based on ARIMA is 1484\n"
     ]
    }
   ],
   "source": [
    "from statsmodels.tsa.arima.model import ARIMA\n",
    "# fit model\n",
    "model = ARIMA(month_count, order=(1, 1, 1))\n",
    "model_fit = model.fit()\n",
    "# make prediction\n",
    "yhat = model_fit.predict(len(month_count), len(month_count), typ='levels')\n",
    "print('the prediction for the number of purchases in July based on ARIMA is {}'.format(int(yhat.values)))"
   ]
  },
  {
   "cell_type": "markdown",
   "id": "reported-violation",
   "metadata": {},
   "source": [
    "Seasonal Auto Regressive Integrated Moving Average SARIMA"
   ]
  },
  {
   "cell_type": "code",
   "execution_count": 17,
   "id": "rental-evaluation",
   "metadata": {},
   "outputs": [
    {
     "name": "stdout",
     "output_type": "stream",
     "text": [
      "the prediction for the number of purchases in July based on SARIMA is 1484\n"
     ]
    }
   ],
   "source": [
    "# SARIMA example\n",
    "from statsmodels.tsa.statespace.sarimax import SARIMAX\n",
    "# fit model\n",
    "model = SARIMAX(month_count, order=(1, 1, 1), seasonal_order=(0, 0, 0, 0))\n",
    "model_fit = model.fit(disp=False)\n",
    "# make prediction\n",
    "yhat = model_fit.predict(len(month_count), len(month_count))\n",
    "print('the prediction for the number of purchases in July based on SARIMA is {}'.format(int(yhat.values)))"
   ]
  },
  {
   "cell_type": "code",
   "execution_count": null,
   "id": "weird-madonna",
   "metadata": {},
   "outputs": [],
   "source": []
  }
 ],
 "metadata": {
  "kernelspec": {
   "display_name": "Python 3",
   "language": "python",
   "name": "python3"
  },
  "language_info": {
   "codemirror_mode": {
    "name": "ipython",
    "version": 3
   },
   "file_extension": ".py",
   "mimetype": "text/x-python",
   "name": "python",
   "nbconvert_exporter": "python",
   "pygments_lexer": "ipython3",
   "version": "3.8.8"
  }
 },
 "nbformat": 4,
 "nbformat_minor": 5
}
