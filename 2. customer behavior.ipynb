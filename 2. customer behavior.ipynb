{
 "cells": [
  {
   "cell_type": "code",
   "execution_count": 1,
   "id": "turned-bulletin",
   "metadata": {},
   "outputs": [],
   "source": [
    "import pandas as pd \n",
    "import numpy as np          # For mathematical calculations \n",
    "import matplotlib.pyplot as plt  # For plotting graphs \n",
    "from datetime import datetime    # To access datetime \n",
    "from pandas import Series      # To work on series \n",
    "import seaborn as sns\n",
    "%matplotlib inline \n",
    "import warnings                   # To ignore the warnings\n",
    "warnings.filterwarnings(\"ignore\")"
   ]
  },
  {
   "cell_type": "code",
   "execution_count": 2,
   "id": "verified-breakdown",
   "metadata": {},
   "outputs": [],
   "source": [
    "main_data=pd.read_csv(r'E:\\user\\snappfood qualiftying\\source\\data\\edited data\\df1.csv')"
   ]
  },
  {
   "cell_type": "code",
   "execution_count": 3,
   "id": "dried-louisville",
   "metadata": {},
   "outputs": [],
   "source": [
    "df=pd.read_csv(r'E:\\user\\snappfood qualiftying\\source\\data\\edited data\\new_cus.csv')"
   ]
  },
  {
   "cell_type": "code",
   "execution_count": 4,
   "id": "abroad-thermal",
   "metadata": {},
   "outputs": [
    {
     "data": {
      "text/html": [
       "<div>\n",
       "<style scoped>\n",
       "    .dataframe tbody tr th:only-of-type {\n",
       "        vertical-align: middle;\n",
       "    }\n",
       "\n",
       "    .dataframe tbody tr th {\n",
       "        vertical-align: top;\n",
       "    }\n",
       "\n",
       "    .dataframe thead th {\n",
       "        text-align: right;\n",
       "    }\n",
       "</style>\n",
       "<table border=\"1\" class=\"dataframe\">\n",
       "  <thead>\n",
       "    <tr style=\"text-align: right;\">\n",
       "      <th></th>\n",
       "      <th>user_id</th>\n",
       "      <th>order_id</th>\n",
       "      <th>discount_cost</th>\n",
       "      <th>discount_type</th>\n",
       "      <th>basket</th>\n",
       "      <th>day</th>\n",
       "      <th>month</th>\n",
       "      <th>year</th>\n",
       "    </tr>\n",
       "  </thead>\n",
       "  <tbody>\n",
       "    <tr>\n",
       "      <th>0</th>\n",
       "      <td>1984</td>\n",
       "      <td>2775.0</td>\n",
       "      <td>0.0</td>\n",
       "      <td>0.0</td>\n",
       "      <td>28000.0</td>\n",
       "      <td>8.0</td>\n",
       "      <td>2.0</td>\n",
       "      <td>2022.0</td>\n",
       "    </tr>\n",
       "    <tr>\n",
       "      <th>1</th>\n",
       "      <td>3276</td>\n",
       "      <td>5498.0</td>\n",
       "      <td>0.0</td>\n",
       "      <td>0.0</td>\n",
       "      <td>32400.0</td>\n",
       "      <td>6.0</td>\n",
       "      <td>3.0</td>\n",
       "      <td>2022.0</td>\n",
       "    </tr>\n",
       "    <tr>\n",
       "      <th>2</th>\n",
       "      <td>4360</td>\n",
       "      <td>8250.0</td>\n",
       "      <td>0.0</td>\n",
       "      <td>0.0</td>\n",
       "      <td>14000.0</td>\n",
       "      <td>3.0</td>\n",
       "      <td>4.0</td>\n",
       "      <td>2022.0</td>\n",
       "    </tr>\n",
       "    <tr>\n",
       "      <th>3</th>\n",
       "      <td>806</td>\n",
       "      <td>951.0</td>\n",
       "      <td>0.0</td>\n",
       "      <td>0.0</td>\n",
       "      <td>12000.0</td>\n",
       "      <td>17.0</td>\n",
       "      <td>1.0</td>\n",
       "      <td>2022.0</td>\n",
       "    </tr>\n",
       "    <tr>\n",
       "      <th>4</th>\n",
       "      <td>500</td>\n",
       "      <td>551.0</td>\n",
       "      <td>0.0</td>\n",
       "      <td>0.0</td>\n",
       "      <td>6500.0</td>\n",
       "      <td>11.0</td>\n",
       "      <td>1.0</td>\n",
       "      <td>2022.0</td>\n",
       "    </tr>\n",
       "  </tbody>\n",
       "</table>\n",
       "</div>"
      ],
      "text/plain": [
       "   user_id  order_id  discount_cost  discount_type   basket   day  month  \\\n",
       "0     1984    2775.0            0.0            0.0  28000.0   8.0    2.0   \n",
       "1     3276    5498.0            0.0            0.0  32400.0   6.0    3.0   \n",
       "2     4360    8250.0            0.0            0.0  14000.0   3.0    4.0   \n",
       "3      806     951.0            0.0            0.0  12000.0  17.0    1.0   \n",
       "4      500     551.0            0.0            0.0   6500.0  11.0    1.0   \n",
       "\n",
       "     year  \n",
       "0  2022.0  \n",
       "1  2022.0  \n",
       "2  2022.0  \n",
       "3  2022.0  \n",
       "4  2022.0  "
      ]
     },
     "execution_count": 4,
     "metadata": {},
     "output_type": "execute_result"
    }
   ],
   "source": [
    "df.head()"
   ]
  },
  {
   "cell_type": "code",
   "execution_count": 17,
   "id": "increasing-moses",
   "metadata": {},
   "outputs": [
    {
     "data": {
      "text/plain": [
       "(9985, 8)"
      ]
     },
     "execution_count": 17,
     "metadata": {},
     "output_type": "execute_result"
    }
   ],
   "source": [
    "df.shape"
   ]
  },
  {
   "cell_type": "code",
   "execution_count": 7,
   "id": "ranging-amsterdam",
   "metadata": {},
   "outputs": [
    {
     "data": {
      "text/html": [
       "<div>\n",
       "<style scoped>\n",
       "    .dataframe tbody tr th:only-of-type {\n",
       "        vertical-align: middle;\n",
       "    }\n",
       "\n",
       "    .dataframe tbody tr th {\n",
       "        vertical-align: top;\n",
       "    }\n",
       "\n",
       "    .dataframe thead th {\n",
       "        text-align: right;\n",
       "    }\n",
       "</style>\n",
       "<table border=\"1\" class=\"dataframe\">\n",
       "  <thead>\n",
       "    <tr style=\"text-align: right;\">\n",
       "      <th></th>\n",
       "      <th>order_id</th>\n",
       "      <th>user_id</th>\n",
       "      <th>created_at</th>\n",
       "      <th>discount_cost</th>\n",
       "      <th>discount_type</th>\n",
       "      <th>basket</th>\n",
       "      <th>month</th>\n",
       "      <th>day</th>\n",
       "      <th>year</th>\n",
       "      <th>cohort</th>\n",
       "    </tr>\n",
       "  </thead>\n",
       "  <tbody>\n",
       "    <tr>\n",
       "      <th>0</th>\n",
       "      <td>1</td>\n",
       "      <td>1</td>\n",
       "      <td>4/12/2021</td>\n",
       "      <td>10000</td>\n",
       "      <td>1.0</td>\n",
       "      <td>12000</td>\n",
       "      <td>4</td>\n",
       "      <td>12</td>\n",
       "      <td>2021</td>\n",
       "      <td>3</td>\n",
       "    </tr>\n",
       "    <tr>\n",
       "      <th>1</th>\n",
       "      <td>2</td>\n",
       "      <td>2</td>\n",
       "      <td>5/9/2021</td>\n",
       "      <td>0</td>\n",
       "      <td>0.0</td>\n",
       "      <td>20000</td>\n",
       "      <td>5</td>\n",
       "      <td>9</td>\n",
       "      <td>2021</td>\n",
       "      <td>5</td>\n",
       "    </tr>\n",
       "    <tr>\n",
       "      <th>2</th>\n",
       "      <td>3</td>\n",
       "      <td>3</td>\n",
       "      <td>5/9/2021</td>\n",
       "      <td>10000</td>\n",
       "      <td>1.0</td>\n",
       "      <td>14000</td>\n",
       "      <td>5</td>\n",
       "      <td>9</td>\n",
       "      <td>2021</td>\n",
       "      <td>3</td>\n",
       "    </tr>\n",
       "    <tr>\n",
       "      <th>3</th>\n",
       "      <td>4</td>\n",
       "      <td>4</td>\n",
       "      <td>11/10/2021</td>\n",
       "      <td>0</td>\n",
       "      <td>0.0</td>\n",
       "      <td>15000</td>\n",
       "      <td>11</td>\n",
       "      <td>10</td>\n",
       "      <td>2021</td>\n",
       "      <td>11</td>\n",
       "    </tr>\n",
       "    <tr>\n",
       "      <th>4</th>\n",
       "      <td>5</td>\n",
       "      <td>5</td>\n",
       "      <td>11/10/2021</td>\n",
       "      <td>10000</td>\n",
       "      <td>1.0</td>\n",
       "      <td>16000</td>\n",
       "      <td>11</td>\n",
       "      <td>10</td>\n",
       "      <td>2021</td>\n",
       "      <td>1</td>\n",
       "    </tr>\n",
       "  </tbody>\n",
       "</table>\n",
       "</div>"
      ],
      "text/plain": [
       "   order_id  user_id  created_at  discount_cost  discount_type  basket  month  \\\n",
       "0         1        1   4/12/2021          10000            1.0   12000      4   \n",
       "1         2        2    5/9/2021              0            0.0   20000      5   \n",
       "2         3        3    5/9/2021          10000            1.0   14000      5   \n",
       "3         4        4  11/10/2021              0            0.0   15000     11   \n",
       "4         5        5  11/10/2021          10000            1.0   16000     11   \n",
       "\n",
       "   day  year  cohort  \n",
       "0   12  2021       3  \n",
       "1    9  2021       5  \n",
       "2    9  2021       3  \n",
       "3   10  2021      11  \n",
       "4   10  2021       1  "
      ]
     },
     "execution_count": 7,
     "metadata": {},
     "output_type": "execute_result"
    }
   ],
   "source": [
    "main_data.head()"
   ]
  },
  {
   "cell_type": "markdown",
   "id": "manufactured-perth",
   "metadata": {},
   "source": [
    "### 1. will new customers continue ordering from Snapfood?"
   ]
  },
  {
   "cell_type": "markdown",
   "id": "preceding-liability",
   "metadata": {},
   "source": [
    "1.1 percentage of customers that have more than 1 purchase"
   ]
  },
  {
   "cell_type": "code",
   "execution_count": 5,
   "id": "described-anchor",
   "metadata": {},
   "outputs": [
    {
     "data": {
      "text/plain": [
       "4444"
      ]
     },
     "execution_count": 5,
     "metadata": {},
     "output_type": "execute_result"
    }
   ],
   "source": [
    "np.sum(main_data['user_id'].value_counts()>1)"
   ]
  },
  {
   "cell_type": "code",
   "execution_count": 6,
   "id": "inappropriate-aspect",
   "metadata": {},
   "outputs": [
    {
     "name": "stdout",
     "output_type": "stream",
     "text": [
      "44.6 percent of customers have purchased more than 1\n"
     ]
    }
   ],
   "source": [
    "print('{} percent of customers have purchased more than 1'.format(round((4444/9958)*100,1)))"
   ]
  },
  {
   "cell_type": "markdown",
   "id": "incredible-richmond",
   "metadata": {},
   "source": [
    "### 2.how many of those 4444 people have used discounts in their first order? (how much of each type)"
   ]
  },
  {
   "cell_type": "code",
   "execution_count": 7,
   "id": "widespread-double",
   "metadata": {},
   "outputs": [],
   "source": [
    "customer_purchase=pd.DataFrame(columns=['user_id','purchases'])"
   ]
  },
  {
   "cell_type": "code",
   "execution_count": 8,
   "id": "graphic-restaurant",
   "metadata": {},
   "outputs": [],
   "source": [
    "customer_purchase['purchases']=main_data['user_id'].value_counts().values\n",
    "customer_purchase['user_id']=main_data['user_id'].value_counts().index"
   ]
  },
  {
   "cell_type": "code",
   "execution_count": 9,
   "id": "spread-nickel",
   "metadata": {},
   "outputs": [
    {
     "data": {
      "text/html": [
       "<div>\n",
       "<style scoped>\n",
       "    .dataframe tbody tr th:only-of-type {\n",
       "        vertical-align: middle;\n",
       "    }\n",
       "\n",
       "    .dataframe tbody tr th {\n",
       "        vertical-align: top;\n",
       "    }\n",
       "\n",
       "    .dataframe thead th {\n",
       "        text-align: right;\n",
       "    }\n",
       "</style>\n",
       "<table border=\"1\" class=\"dataframe\">\n",
       "  <thead>\n",
       "    <tr style=\"text-align: right;\">\n",
       "      <th></th>\n",
       "      <th>user_id</th>\n",
       "      <th>purchases</th>\n",
       "    </tr>\n",
       "  </thead>\n",
       "  <tbody>\n",
       "    <tr>\n",
       "      <th>0</th>\n",
       "      <td>1984</td>\n",
       "      <td>117</td>\n",
       "    </tr>\n",
       "    <tr>\n",
       "      <th>1</th>\n",
       "      <td>3276</td>\n",
       "      <td>70</td>\n",
       "    </tr>\n",
       "    <tr>\n",
       "      <th>2</th>\n",
       "      <td>4360</td>\n",
       "      <td>67</td>\n",
       "    </tr>\n",
       "    <tr>\n",
       "      <th>3</th>\n",
       "      <td>806</td>\n",
       "      <td>64</td>\n",
       "    </tr>\n",
       "    <tr>\n",
       "      <th>4</th>\n",
       "      <td>500</td>\n",
       "      <td>63</td>\n",
       "    </tr>\n",
       "  </tbody>\n",
       "</table>\n",
       "</div>"
      ],
      "text/plain": [
       "   user_id  purchases\n",
       "0     1984        117\n",
       "1     3276         70\n",
       "2     4360         67\n",
       "3      806         64\n",
       "4      500         63"
      ]
     },
     "execution_count": 9,
     "metadata": {},
     "output_type": "execute_result"
    }
   ],
   "source": [
    "customer_purchase.head()"
   ]
  },
  {
   "cell_type": "code",
   "execution_count": 10,
   "id": "subsequent-collar",
   "metadata": {},
   "outputs": [],
   "source": [
    "customer_purchase.to_csv(r'E:\\user\\snappfood qualification\\source\\data\\edited data\\customer_purchase.csv')"
   ]
  },
  {
   "cell_type": "code",
   "execution_count": 47,
   "id": "heavy-hostel",
   "metadata": {},
   "outputs": [
    {
     "data": {
      "text/plain": [
       "(9985, 2)"
      ]
     },
     "execution_count": 47,
     "metadata": {},
     "output_type": "execute_result"
    }
   ],
   "source": [
    "customer_purchase.shape"
   ]
  },
  {
   "cell_type": "code",
   "execution_count": 11,
   "id": "cardiac-corporation",
   "metadata": {},
   "outputs": [],
   "source": [
    "loyal=customer_purchase[customer_purchase['purchases']>5]['user_id'].values"
   ]
  },
  {
   "cell_type": "code",
   "execution_count": 12,
   "id": "collective-yukon",
   "metadata": {},
   "outputs": [],
   "source": [
    "loyal_customer=pd.DataFrame(columns=['user_id'])"
   ]
  },
  {
   "cell_type": "code",
   "execution_count": 13,
   "id": "anonymous-spanish",
   "metadata": {},
   "outputs": [],
   "source": [
    "loyal_customer['user_id']=loyal"
   ]
  },
  {
   "cell_type": "code",
   "execution_count": 14,
   "id": "suspended-thong",
   "metadata": {},
   "outputs": [
    {
     "data": {
      "text/html": [
       "<div>\n",
       "<style scoped>\n",
       "    .dataframe tbody tr th:only-of-type {\n",
       "        vertical-align: middle;\n",
       "    }\n",
       "\n",
       "    .dataframe tbody tr th {\n",
       "        vertical-align: top;\n",
       "    }\n",
       "\n",
       "    .dataframe thead th {\n",
       "        text-align: right;\n",
       "    }\n",
       "</style>\n",
       "<table border=\"1\" class=\"dataframe\">\n",
       "  <thead>\n",
       "    <tr style=\"text-align: right;\">\n",
       "      <th></th>\n",
       "      <th>user_id</th>\n",
       "    </tr>\n",
       "  </thead>\n",
       "  <tbody>\n",
       "    <tr>\n",
       "      <th>0</th>\n",
       "      <td>1984</td>\n",
       "    </tr>\n",
       "    <tr>\n",
       "      <th>1</th>\n",
       "      <td>3276</td>\n",
       "    </tr>\n",
       "    <tr>\n",
       "      <th>2</th>\n",
       "      <td>4360</td>\n",
       "    </tr>\n",
       "    <tr>\n",
       "      <th>3</th>\n",
       "      <td>806</td>\n",
       "    </tr>\n",
       "    <tr>\n",
       "      <th>4</th>\n",
       "      <td>500</td>\n",
       "    </tr>\n",
       "  </tbody>\n",
       "</table>\n",
       "</div>"
      ],
      "text/plain": [
       "   user_id\n",
       "0     1984\n",
       "1     3276\n",
       "2     4360\n",
       "3      806\n",
       "4      500"
      ]
     },
     "execution_count": 14,
     "metadata": {},
     "output_type": "execute_result"
    }
   ],
   "source": [
    "loyal_customer.head()"
   ]
  },
  {
   "cell_type": "code",
   "execution_count": 15,
   "id": "sustainable-stake",
   "metadata": {},
   "outputs": [],
   "source": [
    "discount_type=[]\n",
    "discount_cost=[]\n",
    "for i in range(9985):\n",
    "    for b in range(1250):\n",
    "        if df['user_id'][i]==loyal_customer['user_id'][b]:\n",
    "            discount_type.append(df['discount_type'][i])\n",
    "            discount_cost.append(df['discount_cost'][i])"
   ]
  },
  {
   "cell_type": "code",
   "execution_count": 16,
   "id": "convenient-contemporary",
   "metadata": {},
   "outputs": [],
   "source": [
    "loyal_customer['discount_type']=discount_type\n",
    "loyal_customer['discount_cost']=discount_cost"
   ]
  },
  {
   "cell_type": "code",
   "execution_count": 17,
   "id": "danish-fifth",
   "metadata": {},
   "outputs": [
    {
     "data": {
      "text/plain": [
       "0.0    929\n",
       "1.0    315\n",
       "2.0      6\n",
       "Name: discount_type, dtype: int64"
      ]
     },
     "execution_count": 17,
     "metadata": {},
     "output_type": "execute_result"
    }
   ],
   "source": [
    "loyal_customer['discount_type'].value_counts()"
   ]
  },
  {
   "cell_type": "code",
   "execution_count": 18,
   "id": "exotic-malaysia",
   "metadata": {},
   "outputs": [
    {
     "data": {
      "text/plain": [
       "0.0        929\n",
       "10000.0    182\n",
       "15000.0    104\n",
       "12000.0      9\n",
       "8000.0       3\n",
       "20000.0      2\n",
       "6000.0       2\n",
       "14000.0      2\n",
       "5000.0       2\n",
       "13000.0      2\n",
       "8400.0       1\n",
       "2800.0       1\n",
       "9000.0       1\n",
       "6500.0       1\n",
       "2300.0       1\n",
       "19800.0      1\n",
       "1500.0       1\n",
       "14500.0      1\n",
       "14400.0      1\n",
       "12300.0      1\n",
       "1200.0       1\n",
       "14800.0      1\n",
       "21000.0      1\n",
       "Name: discount_cost, dtype: int64"
      ]
     },
     "execution_count": 18,
     "metadata": {},
     "output_type": "execute_result"
    }
   ],
   "source": [
    "loyal_customer['discount_cost'].value_counts()"
   ]
  },
  {
   "cell_type": "code",
   "execution_count": 19,
   "id": "terminal-october",
   "metadata": {},
   "outputs": [
    {
     "data": {
      "text/plain": [
       "<AxesSubplot:xlabel='discount_cost', ylabel='Density'>"
      ]
     },
     "execution_count": 19,
     "metadata": {},
     "output_type": "execute_result"
    },
    {
     "data": {
      "image/png": "[encoded data removed]",
      "text/plain": [
       "<Figure size 432x288 with 1 Axes>"
      ]
     },
     "metadata": {
      "needs_background": "light"
     },
     "output_type": "display_data"
    }
   ],
   "source": [
    "sns.distplot(loyal_customer['discount_cost'])"
   ]
  },
  {
   "cell_type": "code",
   "execution_count": 20,
   "id": "varying-storm",
   "metadata": {},
   "outputs": [],
   "source": [
    "loyal_customer.to_csv(r'E:\\user\\snappfood qualiftying\\source\\data\\edited data\\loyal_customer.csv')"
   ]
  }
 ],
 "metadata": {
  "kernelspec": {
   "display_name": "Python 3",
   "language": "python",
   "name": "python3"
  },
  "language_info": {
   "codemirror_mode": {
    "name": "ipython",
    "version": 3
   },
   "file_extension": ".py",
   "mimetype": "text/x-python",
   "name": "python",
   "nbconvert_exporter": "python",
   "pygments_lexer": "ipython3",
   "version": "3.8.8"
  }
 },
 "nbformat": 4,
 "nbformat_minor": 5
}
